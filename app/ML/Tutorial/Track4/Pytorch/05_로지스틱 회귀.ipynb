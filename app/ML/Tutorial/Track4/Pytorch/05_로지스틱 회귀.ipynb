{
 "cells": [
  {
   "cell_type": "markdown",
   "metadata": {},
   "source": [
    "-----------\n",
    "- # 요약\n",
    "    - ## 로지스틱 회귀\n",
    "        - ### 이진 분류\n",
    "            - 과정\n",
    "            - nn.Module 적용 시 변경점\n",
    "     \n",
    "-----------"
   ]
  },
  {
   "cell_type": "markdown",
   "metadata": {},
   "source": [
    "# 로지스틱 회귀\n",
    "## 이진 분류\n",
    "- 주어진 데이터를 1,0 출력으로 두개의 클래스로 분리하는 문제임\n",
    "- 활성화 함수는 시그모이드, 비용함수는 이진 교차 엔트로피 손실 사용\n"
   ]
  },
  {
   "cell_type": "code",
   "execution_count": 2,
   "metadata": {},
   "outputs": [],
   "source": [
    "## 모듈 임포트\n",
    "import torch\n",
    "import torch.nn as nn\n",
    "import torch.nn.functional as F\n",
    "import torch.optim as optim"
   ]
  },
  {
   "cell_type": "code",
   "execution_count": 3,
   "metadata": {},
   "outputs": [
    {
     "name": "stdout",
     "output_type": "stream",
     "text": [
      "torch.Size([6, 2])\n",
      "torch.Size([6, 1])\n"
     ]
    }
   ],
   "source": [
    "## 훈련 데이터\n",
    "x_data = [[1, 2], [2, 3], [3, 1], [4, 3], [5, 3], [6, 2]]\n",
    "y_data = [[0], [0], [0], [1], [1], [1]]\n",
    "x_train = torch.FloatTensor(x_data)\n",
    "y_train = torch.FloatTensor(y_data)\n",
    "print(x_train.shape)\n",
    "print(y_train.shape)"
   ]
  },
  {
   "cell_type": "code",
   "execution_count": null,
   "metadata": {},
   "outputs": [
    {
     "name": "stdout",
     "output_type": "stream",
     "text": [
      "tensor([[0.5000],\n",
      "        [0.5000],\n",
      "        [0.5000],\n",
      "        [0.5000],\n",
      "        [0.5000],\n",
      "        [0.5000]], grad_fn=<MulBackward0>)\n",
      "torch.Size([6, 1])\n",
      "tensor([[0.5000],\n",
      "        [0.5000],\n",
      "        [0.5000],\n",
      "        [0.5000],\n",
      "        [0.5000],\n",
      "        [0.5000]], grad_fn=<SigmoidBackward0>)\n",
      "torch.Size([6, 1])\n"
     ]
    }
   ],
   "source": [
    "## 초기 신경망 초기화\n",
    "W = torch.zeros((2, 1), requires_grad=True)\n",
    "b = torch.zeros(1, requires_grad=True)\n",
    "\n",
    "## 시그모이드 하드코딩\n",
    "hypothesis = 1 / (1 + torch.exp(-(x_train.matmul(W) + b)))\n",
    "print(hypothesis)\n",
    "print(hypothesis.shape)\n",
    "\n",
    "## 시그모이드 함수 사용\n",
    "hypothesis = torch.sigmoid(x_train.matmul(W) + b)  # or .mm or @\n",
    "print(hypothesis)\n",
    "print(hypothesis.shape)"
   ]
  },
  {
   "cell_type": "code",
   "execution_count": null,
   "metadata": {},
   "outputs": [
    {
     "name": "stdout",
     "output_type": "stream",
     "text": [
      "tensor([[0.6931],\n",
      "        [0.6931],\n",
      "        [0.6931],\n",
      "        [0.6931],\n",
      "        [0.6931],\n",
      "        [0.6931]], grad_fn=<NegBackward0>)\n",
      "tensor(0.6931, grad_fn=<MeanBackward0>)\n"
     ]
    },
    {
     "data": {
      "text/plain": [
       "tensor(0.6931, grad_fn=<BinaryCrossEntropyBackward0>)"
      ]
     },
     "execution_count": 9,
     "metadata": {},
     "output_type": "execute_result"
    }
   ],
   "source": [
    "## 손실함수 정의\n",
    "## 행렬 형태에 주의할 것\n",
    "## Binary Cross-entropy Loss\n",
    "-(\n",
    "    y_train[0] * torch.log(hypothesis[0])\n",
    "    + (1 - y_train[0]) * torch.log(1 - hypothesis[0])\n",
    ")\n",
    "\n",
    "losses = -(y_train * torch.log(hypothesis) + (1 - y_train) * torch.log(1 - hypothesis))\n",
    "print(losses)\n",
    "\n",
    "cost = losses.mean()\n",
    "print(cost)\n",
    "\n",
    "# 미리 정의된 F 손실함수 사용시\n",
    "F.binary_cross_entropy(hypothesis, y_train)"
   ]
  },
  {
   "cell_type": "markdown",
   "metadata": {},
   "source": [
    "# 전체코드\n",
    "## Naive\n",
    "1. 데이터 로드\n",
    "2. 옵티마이저 초기화\n",
    "3. for 루프\n",
    "    1. 신경망 순전파\n",
    "    2. 손실함수 계산\n",
    "    3. 그레디언트 초기화 후 역전파\n",
    "    4. 그레디언트 갱신\n",
    "5. 정확도 계산"
   ]
  },
  {
   "cell_type": "code",
   "execution_count": null,
   "metadata": {},
   "outputs": [
    {
     "name": "stdout",
     "output_type": "stream",
     "text": [
      "Epoch    0/1000 Cost: 0.693147 Accuracy 50.00%\n",
      "Epoch  100/1000 Cost: 0.134722 Accuracy 100.00%\n",
      "Epoch  200/1000 Cost: 0.080643 Accuracy 100.00%\n",
      "Epoch  300/1000 Cost: 0.057900 Accuracy 100.00%\n",
      "Epoch  400/1000 Cost: 0.045300 Accuracy 100.00%\n",
      "Epoch  500/1000 Cost: 0.037261 Accuracy 100.00%\n",
      "Epoch  600/1000 Cost: 0.031672 Accuracy 100.00%\n",
      "Epoch  700/1000 Cost: 0.027556 Accuracy 100.00%\n",
      "Epoch  800/1000 Cost: 0.024394 Accuracy 100.00%\n",
      "Epoch  900/1000 Cost: 0.021888 Accuracy 100.00%\n",
      "Epoch 1000/1000 Cost: 0.019852 Accuracy 100.00%\n"
     ]
    }
   ],
   "source": [
    "# 모델 초기화\n",
    "W = torch.zeros((2, 1), requires_grad=True)\n",
    "b = torch.zeros(1, requires_grad=True)\n",
    "# optimizer 설정\n",
    "optimizer = optim.SGD([W, b], lr=1)\n",
    "\n",
    "nb_epochs = 1000\n",
    "for epoch in range(nb_epochs + 1):\n",
    "\n",
    "    # Cost 계산\n",
    "    hypothesis = torch.sigmoid(x_train.matmul(W) + b)  # or .mm or @\n",
    "    cost = F.binary_cross_entropy(hypothesis, y_train)\n",
    "\n",
    "    # cost로 H(x) 개선\n",
    "    optimizer.zero_grad()\n",
    "    cost.backward()\n",
    "    optimizer.step()\n",
    "\n",
    "    # 100번마다 로그 출력\n",
    "    if epoch % 100 == 0:\n",
    "        prediction = hypothesis >= torch.FloatTensor([0.5])\n",
    "        correct_prediction = prediction.float() == y_train\n",
    "        accuracy = correct_prediction.sum().item() / len(correct_prediction)\n",
    "        print(\n",
    "            \"Epoch {:4d}/{} Cost: {:.6f} Accuracy {:2.2f}%\".format(\n",
    "                epoch,\n",
    "                nb_epochs,\n",
    "                cost.item(),\n",
    "                accuracy * 100,\n",
    "            )\n",
    "        )"
   ]
  },
  {
   "cell_type": "markdown",
   "metadata": {},
   "source": [
    "## nn.Module 사용시\n",
    "- 모듈 정의 부분 주의해서 볼것"
   ]
  },
  {
   "cell_type": "code",
   "execution_count": null,
   "metadata": {},
   "outputs": [
    {
     "name": "stdout",
     "output_type": "stream",
     "text": [
      "Epoch    0/100 Cost: 1.821371 Accuracy 50.00%\n",
      "Epoch   10/100 Cost: 0.613015 Accuracy 50.00%\n",
      "Epoch   20/100 Cost: 0.459853 Accuracy 66.67%\n",
      "Epoch   30/100 Cost: 0.388596 Accuracy 83.33%\n",
      "Epoch   40/100 Cost: 0.329732 Accuracy 83.33%\n",
      "Epoch   50/100 Cost: 0.278133 Accuracy 83.33%\n",
      "Epoch   60/100 Cost: 0.231362 Accuracy 100.00%\n",
      "Epoch   70/100 Cost: 0.190611 Accuracy 100.00%\n",
      "Epoch   80/100 Cost: 0.162033 Accuracy 100.00%\n",
      "Epoch   90/100 Cost: 0.146851 Accuracy 100.00%\n",
      "Epoch  100/100 Cost: 0.136572 Accuracy 100.00%\n"
     ]
    }
   ],
   "source": [
    "class BinaryClassifier(nn.Module):\n",
    "    def __init__(self):\n",
    "        super().__init__()\n",
    "        self.linear = nn.Linear(2, 1)\n",
    "        self.sigmoid = nn.Sigmoid()\n",
    "\n",
    "    def forward(self, x):\n",
    "        return self.sigmoid(self.linear(x))\n",
    "\n",
    "\n",
    "model = BinaryClassifier()\n",
    "# optimizer 설정\n",
    "optimizer = optim.SGD(model.parameters(), lr=1)#####\n",
    "\n",
    "nb_epochs = 100\n",
    "for epoch in range(nb_epochs + 1):\n",
    "\n",
    "    # H(x) 계산\n",
    "    hypothesis = model(x_train)#####\n",
    "\n",
    "    # cost 계산\n",
    "    cost = F.binary_cross_entropy(hypothesis, y_train)\n",
    "\n",
    "    # cost로 H(x) 개선\n",
    "    optimizer.zero_grad()\n",
    "    cost.backward()\n",
    "    optimizer.step()\n",
    "\n",
    "    # 20번마다 로그 출력\n",
    "    if epoch % 10 == 0:\n",
    "        prediction = hypothesis >= torch.FloatTensor([0.5])\n",
    "        correct_prediction = prediction.float() == y_train\n",
    "        accuracy = correct_prediction.sum().item() / len(correct_prediction)\n",
    "        print(\n",
    "            \"Epoch {:4d}/{} Cost: {:.6f} Accuracy {:2.2f}%\".format(\n",
    "                epoch,\n",
    "                nb_epochs,\n",
    "                cost.item(),\n",
    "                accuracy * 100,\n",
    "            )\n",
    "        )"
   ]
  }
 ],
 "metadata": {
  "kernelspec": {
   "display_name": "base",
   "language": "python",
   "name": "python3"
  },
  "language_info": {
   "codemirror_mode": {
    "name": "ipython",
    "version": 3
   },
   "file_extension": ".py",
   "mimetype": "text/x-python",
   "name": "python",
   "nbconvert_exporter": "python",
   "pygments_lexer": "ipython3",
   "version": "3.11.11"
  }
 },
 "nbformat": 4,
 "nbformat_minor": 2
}
