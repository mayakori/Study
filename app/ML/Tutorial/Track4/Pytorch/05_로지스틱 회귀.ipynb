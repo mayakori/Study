{
 "cells": [
  {
   "cell_type": "markdown",
   "metadata": {},
   "source": [
    "-----------\n",
    "- # 요약\n",
    "    - ## 로지스틱 회귀\n",
    "        - ### 이진 분류\n",
    "            - 주어진 데이터를 1,0 출력으로 두개의 클래스로 분리하는 문제임\n",
    "            -\n",
    "        \n",
    "     \n",
    "-----------"
   ]
  }
 ],
 "metadata": {
  "language_info": {
   "name": "python"
  }
 },
 "nbformat": 4,
 "nbformat_minor": 2
}
