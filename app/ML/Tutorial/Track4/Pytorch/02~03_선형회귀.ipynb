{
 "cells": [
  {
   "cell_type": "markdown",
   "metadata": {},
   "source": [
    "-----------\n",
    "- # 요약\n",
    "    - ## 선형회귀\n",
    "        - train set, test set\n",
    "        - hypthesis\n",
    "        - cost\n",
    "        - optimizer\n",
    "            - zero_grad\n",
    "            - backward\n",
    "            - step\n",
    "-----------"
   ]
  },
  {
   "cell_type": "markdown",
   "metadata": {},
   "source": [
    "# 선형회귀\n",
    "- 간단한 선형회귀를 하는 일련의 과정을 파이토치로 정의함\n"
   ]
  },
  {
   "cell_type": "markdown",
   "metadata": {},
   "source": [
    "## 1. 데이터 정의\n",
    "- 신경망을 훈련시키는 train dataset, 신경망을 평가하는 test dataset 로 나눔\n",
    "특징 x, 정답 y 로 이루어져 있음"
   ]
  },
  {
   "cell_type": "code",
   "execution_count": 10,
   "metadata": {},
   "outputs": [],
   "source": [
    "import torch  \n",
    "import torch.optim as optim\n",
    "x_train = torch.FloatTensor([[1], [2], [3]])\n",
    "y_train = torch.FloatTensor([[2], [4], [6]])\n",
    "\n"
   ]
  },
  {
   "attachments": {
    "image.png": {
     "image/png": "[encoded data removed]"
    }
   },
   "cell_type": "markdown",
   "metadata": {},
   "source": [
    "## 2. 가설 정의\n",
    "- ![image.png](attachment:image.png)\n",
    "- 가중치와 편향 정의하고, 초기화함\n",
    "- requries_grad=True\n",
    "    - 학습가능 파라미터라고 명시하는것임"
   ]
  },
  {
   "cell_type": "code",
   "execution_count": 11,
   "metadata": {},
   "outputs": [],
   "source": [
    "W = torch.zeros(1, requires_grad=True)\n",
    "b = torch.zeros(1, requires_grad=True)\n",
    "hypothesis = x_train * W + b"
   ]
  },
  {
   "cell_type": "markdown",
   "metadata": {},
   "source": [
    "## 3. 손실함수 계산\n",
    "- $cost(W, b) = \\frac{1}{m} \\sum\\limits_{i=1}^{m} (H(x^{(i)}) - y^{(i)})^2$\n",
    "- MSE 사용\n",
    "- 이 떄 순전파 일어남"
   ]
  },
  {
   "cell_type": "code",
   "execution_count": 12,
   "metadata": {},
   "outputs": [],
   "source": [
    "cost = torch.mean((hypothesis - y_train) ** 2)"
   ]
  },
  {
   "cell_type": "markdown",
   "metadata": {},
   "source": [
    "## 4. 경사하강법\n",
    "- 우선 옵티마이저를 SGD 로 설정함\n",
    "- zero_grad 로 이전 스텝에 계산한 그레디언트(기울기) 를 0으로 초기화함\n",
    "- backward 함수로 이번 스텝 그레디언트 계산\n",
    "- step 함수로 계산된 그레디언트 사용해 파라미터 업데이트"
   ]
  },
  {
   "cell_type": "code",
   "execution_count": 13,
   "metadata": {},
   "outputs": [],
   "source": [
    "optimizer = optim.SGD([W, b], lr=0.01)  \n",
    "\n",
    "optimizer.zero_grad()  \n",
    "cost.backward()  \n",
    "optimizer.step()"
   ]
  },
  {
   "cell_type": "markdown",
   "metadata": {},
   "source": [
    "### 전체코드\n",
    "- 해당 과정을 지정 에포크만큼 반복함"
   ]
  },
  {
   "cell_type": "code",
   "execution_count": 14,
   "metadata": {},
   "outputs": [],
   "source": [
    "import torch  \n",
    "import torch.optim as optim\n",
    "\n",
    "x_train = torch.FloatTensor([[1], [2], [3]])\n",
    "y_train = torch.FloatTensor([[2], [4], [6]])\n",
    "\n",
    "W = torch.zeros(1, requires_grad=True)\n",
    "b = torch.zeros(1, requires_grad=True)\n",
    "\n",
    "optimizer = optim.SGD([W, b], lr=0.01)\n",
    "\n",
    "nb_epochs = 1000\n",
    "for epoch in range(1, nb_epochs + 1):\n",
    "    hypothesis = x_train * W + b\n",
    "    cost = torch.mean((hypothesis - y_train) ** 2)\n",
    "    optimizer.zero_grad()  \n",
    "    cost.backward()  \n",
    "    optimizer.step()"
   ]
  },
  {
   "cell_type": "markdown",
   "metadata": {},
   "source": [
    "### 편향이 없는 선형회귀의 경우\n"
   ]
  },
  {
   "cell_type": "code",
   "execution_count": 2,
   "metadata": {},
   "outputs": [
    {
     "name": "stdout",
     "output_type": "stream",
     "text": [
      "Epoch    0/10 W: 0.000, Cost: 4.666667\n",
      "Epoch    1/10 W: 1.400, Cost: 0.746666\n",
      "Epoch    2/10 W: 0.840, Cost: 0.119467\n",
      "Epoch    3/10 W: 1.064, Cost: 0.019115\n",
      "Epoch    4/10 W: 0.974, Cost: 0.003058\n",
      "Epoch    5/10 W: 1.010, Cost: 0.000489\n",
      "Epoch    6/10 W: 0.996, Cost: 0.000078\n",
      "Epoch    7/10 W: 1.002, Cost: 0.000013\n",
      "Epoch    8/10 W: 0.999, Cost: 0.000002\n",
      "Epoch    9/10 W: 1.000, Cost: 0.000000\n",
      "Epoch   10/10 W: 1.000, Cost: 0.000000\n"
     ]
    }
   ],
   "source": [
    "import torch  \n",
    "import torch.optim as optim\n",
    "\n",
    "# 데이터  \n",
    "x_train = torch.FloatTensor([[1], [2], [3]])  \n",
    "y_train = torch.FloatTensor([[1], [2], [3]])  \n",
    "# 모델 초기화  \n",
    "W = torch.zeros(1)  \n",
    "# learning rate 설정  \n",
    "lr = 0.1  \n",
    "\n",
    "nb_epochs = 10  \n",
    "for epoch in range(nb_epochs + 1):  \n",
    "    # H(x) 계산  \n",
    "    hypothesis = x_train * W  \n",
    "    \n",
    "    # cost gradient 계산  \n",
    "    cost = torch.mean((hypothesis - y_train) ** 2)  \n",
    "    gradient = torch.sum((W * x_train - y_train) * x_train)  \n",
    "    \n",
    "    print('Epoch {:4d}/{} W: {:.3f}, Cost: {:.6f}'.format(  \n",
    "        epoch, nb_epochs, W.item(), cost.item()  \n",
    "    ))  \n",
    "    \n",
    "    # cost gradient로 H(x) 개선  \n",
    "    W -= lr * gradient"
   ]
  }
 ],
 "metadata": {
  "kernelspec": {
   "display_name": "base",
   "language": "python",
   "name": "python3"
  },
  "language_info": {
   "codemirror_mode": {
    "name": "ipython",
    "version": 3
   },
   "file_extension": ".py",
   "mimetype": "text/x-python",
   "name": "python",
   "nbconvert_exporter": "python",
   "pygments_lexer": "ipython3",
   "version": "3.11.11"
  }
 },
 "nbformat": 4,
 "nbformat_minor": 2
}
