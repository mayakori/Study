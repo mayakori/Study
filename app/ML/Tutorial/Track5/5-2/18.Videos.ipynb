{
 "cells": [
  {
   "cell_type": "markdown",
   "id": "83118974",
   "metadata": {},
   "source": [
    "---------\n",
    "- # 요약\n",
    "    - 새로운 내용임\n",
    "    - 개요 참조\n",
    "---------"
   ]
  },
  {
   "cell_type": "markdown",
   "id": "22d657af",
   "metadata": {},
   "source": [
    "# Videos\n"
   ]
  }
 ],
 "metadata": {
  "language_info": {
   "name": "python"
  }
 },
 "nbformat": 4,
 "nbformat_minor": 5
}
