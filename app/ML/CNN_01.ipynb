{
 "cells": [
  {
   "cell_type": "markdown",
   "metadata": {},
   "source": [
    "- 라이브러리 임포트\n",
    "    - torch\n",
    "    - torchvision\n",
    "    - 기본 딥러닝 라이브러리\n",
    "    - transforms\n",
    "        - 입력데이터 형태 변환용\n",
    "    - optim\n"
   ]
  },
  {
   "cell_type": "code",
   "execution_count": 3,
   "metadata": {},
   "outputs": [
    {
     "name": "stdout",
     "output_type": "stream",
     "text": [
      "GPU available: True\n"
     ]
    }
   ],
   "source": [
    "# Import PyTorch\n",
    "import torch\n",
    "\n",
    "# We use torchvision to get our dataset and useful image transformations\n",
    "import torchvision\n",
    "import torchvision.transforms as transforms\n",
    "\n",
    "# Import PyTorch's optimization libary and nn\n",
    "# nn is used as the basic building block for our Network graphs\n",
    "import torch.optim as optim\n",
    "import torch.nn as nn\n",
    "\n",
    "# Are we using our GPU?\n",
    "print(\"GPU available: {}\".format(torch.cuda.is_available()))\n",
    "if torch.cuda.is_available():\n",
    "  device = 'cuda' \n",
    "else:\n",
    "  device = 'cpu' "
   ]
  },
  {
   "cell_type": "markdown",
   "metadata": {},
   "source": [
    "- ## Transforms\n",
    "    - 신경망에 데이터를 입력하기 전 일정한 형태로 만들어야함"
   ]
  }
 ],
 "metadata": {
  "kernelspec": {
   "display_name": "base",
   "language": "python",
   "name": "python3"
  },
  "language_info": {
   "codemirror_mode": {
    "name": "ipython",
    "version": 3
   },
   "file_extension": ".py",
   "mimetype": "text/x-python",
   "name": "python",
   "nbconvert_exporter": "python",
   "pygments_lexer": "ipython3",
   "version": "3.10.13"
  }
 },
 "nbformat": 4,
 "nbformat_minor": 2
}
