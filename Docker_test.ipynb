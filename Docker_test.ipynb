{
 "cells": [
  {
   "cell_type": "markdown",
   "metadata": {},
   "source": [
    "#### 도커 사용법\t\t\t\t\t\t\t\t\t\t\n",
    "1. 사용환경을 정의하는 dockerfile 생성\t\t\n",
    "\n",
    "2. 도커파일을 통해 이미지를 빌드하고\t\t\t\n",
    "\n",
    "3. 이 이미지를 기본으로 devcontainer.json 을 통해 컨테이너를 빌드함\t\t\t\t\n",
    "\n",
    "4. 이 빌드된 컨테이너를 사용해 새로운 환경에서 코드를 실행함\t\t\t\t\t\t\t\t\t\t\n",
    "                                        \n",
    "현재는 패키지의 버전을 명시하지 않았지만\t\t\t\t\n",
    "차후에 해당 패키지를 requirements.txt에 버전을 기재하여 명확히 표기할 것\t\t\t\t\t\t\t\t\t\t\n",
    "                                        "
   ]
  },
  {
   "cell_type": "code",
   "execution_count": 2,
   "metadata": {},
   "outputs": [
    {
     "name": "stdout",
     "output_type": "stream",
     "text": [
      "현재 연결된 커널 정보 파일: /root/.local/share/jupyter/runtime/kernel-*.json\n"
     ]
    }
   ],
   "source": [
    "import json\n",
    "import os\n",
    "\n",
    "# 현재 Jupyter Notebook이 연결된 커널의 경로 확인\n",
    "kernel_path = os.path.join(os.environ[\"HOME\"], \".local/share/jupyter/runtime/kernel-*.json\")\n",
    "print(f\"현재 연결된 커널 정보 파일: {kernel_path}\")\n"
   ]
  },
  {
   "cell_type": "code",
   "execution_count": 1,
   "metadata": {},
   "outputs": [
    {
     "data": {
      "text/plain": [
       "True"
      ]
     },
     "execution_count": 1,
     "metadata": {},
     "output_type": "execute_result"
    }
   ],
   "source": [
    "import torch\n",
    "torch.cuda.is_available()"
   ]
  }
 ],
 "metadata": {
  "kernelspec": {
   "display_name": "base",
   "language": "python",
   "name": "python3"
  },
  "language_info": {
   "codemirror_mode": {
    "name": "ipython",
    "version": 3
   },
   "file_extension": ".py",
   "mimetype": "text/x-python",
   "name": "python",
   "nbconvert_exporter": "python",
   "pygments_lexer": "ipython3",
   "version": "3.10.13"
  }
 },
 "nbformat": 4,
 "nbformat_minor": 2
}
